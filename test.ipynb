{
 "cells": [
  {
   "cell_type": "code",
   "execution_count": 6,
   "metadata": {},
   "outputs": [],
   "source": [
    "from constants import *\n",
    "from silicon import Silicon\n",
    "from diode import Diode\n",
    "from sympy.physics.units import *\n",
    "import sympy as sp\n",
    "import numpy as np\n",
    "import matplotlib.pyplot as plt\n",
    "import math"
   ]
  },
  {
   "cell_type": "code",
   "execution_count": 7,
   "metadata": {},
   "outputs": [
    {
     "data": {
      "text/plain": [
       "{'T': 300*kelvin,\n",
       " 'Si_type': 'p',\n",
       " 'N_a': 1.0e+16/centimeter**3,\n",
       " 'N_d': None,\n",
       " 'n_oI': None,\n",
       " 'p_oI': None,\n",
       " 'n_oN': None,\n",
       " 'p_oN': None,\n",
       " 'n_oP': 11449.0/centimeter**3,\n",
       " 'p_oP': 1.0e+16/centimeter**3}"
      ]
     },
     "execution_count": 7,
     "metadata": {},
     "output_type": "execute_result"
    }
   ],
   "source": [
    "s = Silicon()\n",
    "\n",
    "s.add_known_quantity('N_a', 1e16 / cm**3)\n",
    "\n",
    "s.get_known_quantities()"
   ]
  },
  {
   "cell_type": "code",
   "execution_count": 8,
   "metadata": {},
   "outputs": [
    {
     "data": {
      "text/plain": [
       "{'T': 300*kelvin,\n",
       " 'Si_type': 'n',\n",
       " 'N_a': None,\n",
       " 'N_d': 1.0e+16/centimeter**3,\n",
       " 'n_oI': None,\n",
       " 'p_oI': None,\n",
       " 'n_oN': 1.0e+16/centimeter**3,\n",
       " 'p_oN': 11449.0/centimeter**3,\n",
       " 'n_oP': None,\n",
       " 'p_oP': None}"
      ]
     },
     "execution_count": 8,
     "metadata": {},
     "output_type": "execute_result"
    }
   ],
   "source": [
    "s = Silicon()\n",
    "\n",
    "s.add_known_quantity('N_d', 1e16 / cm**3)\n",
    "\n",
    "s.get_known_quantities()"
   ]
  }
 ],
 "metadata": {
  "kernelspec": {
   "display_name": "Python 3",
   "language": "python",
   "name": "python3"
  },
  "language_info": {
   "codemirror_mode": {
    "name": "ipython",
    "version": 3
   },
   "file_extension": ".py",
   "mimetype": "text/x-python",
   "name": "python",
   "nbconvert_exporter": "python",
   "pygments_lexer": "ipython3",
   "version": "3.11.1"
  },
  "orig_nbformat": 4,
  "vscode": {
   "interpreter": {
    "hash": "aee8b7b246df8f9039afb4144a1f6fd8d2ca17a180786b69acc140d282b71a49"
   }
  }
 },
 "nbformat": 4,
 "nbformat_minor": 2
}
