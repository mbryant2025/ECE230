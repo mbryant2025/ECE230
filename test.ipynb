{
 "cells": [
  {
   "cell_type": "code",
   "execution_count": 1,
   "metadata": {},
   "outputs": [],
   "source": [
    "from constants import *\n",
    "from crystal_structure_of_solids import *\n",
    "from silicon import Silicon\n",
    "from diode import Diode\n",
    "from mosfet import MOSFET\n",
    "from sympy.physics.units import *\n",
    "import sympy as sp\n",
    "import numpy as np\n",
    "import matplotlib.pyplot as plt\n",
    "import math"
   ]
  },
  {
   "cell_type": "code",
   "execution_count": 2,
   "metadata": {},
   "outputs": [
    {
     "data": {
      "text/plain": [
       "{'T': 300*kelvin,\n",
       " 'Si_type': 'p',\n",
       " 'N_a': 1.0e+16/centimeter**3,\n",
       " 'N_d': None,\n",
       " 'n_oI': None,\n",
       " 'p_oI': None,\n",
       " 'n_oN': None,\n",
       " 'p_oN': None,\n",
       " 'n_oP': 11449.0/centimeter**3,\n",
       " 'p_oP': 1.0e+16/centimeter**3}"
      ]
     },
     "execution_count": 2,
     "metadata": {},
     "output_type": "execute_result"
    }
   ],
   "source": [
    "s = Silicon()\n",
    "\n",
    "s.add_known_quantity('N_a', 1e16 / cm**3)\n",
    "\n",
    "s.get_known_quantities()"
   ]
  },
  {
   "cell_type": "code",
   "execution_count": 3,
   "metadata": {},
   "outputs": [
    {
     "data": {
      "text/plain": [
       "{'T': 300*kelvin,\n",
       " 'Si_type': 'n',\n",
       " 'N_a': None,\n",
       " 'N_d': 1.0e+16/centimeter**3,\n",
       " 'n_oI': None,\n",
       " 'p_oI': None,\n",
       " 'n_oN': 1.0e+16/centimeter**3,\n",
       " 'p_oN': 11449.0/centimeter**3,\n",
       " 'n_oP': None,\n",
       " 'p_oP': None}"
      ]
     },
     "execution_count": 3,
     "metadata": {},
     "output_type": "execute_result"
    }
   ],
   "source": [
    "s = Silicon()\n",
    "\n",
    "s.add_known_quantity('N_d', 1e16 / cm**3)\n",
    "\n",
    "s.get_known_quantities()"
   ]
  },
  {
   "cell_type": "code",
   "execution_count": 4,
   "metadata": {},
   "outputs": [
    {
     "name": "stdout",
     "output_type": "stream",
     "text": [
      "running\n",
      "running1\n",
      "running\n",
      "running1\n",
      "running\n",
      "running1\n"
     ]
    },
    {
     "data": {
      "text/plain": [
       "{'T': 300*kelvin,\n",
       " 'N_a': 1.0e+16/centimeter**3,\n",
       " 'N_d': None,\n",
       " 'V_bi': None,\n",
       " 'V_bin': None,\n",
       " 'V_bip': None,\n",
       " 'W_dN': None,\n",
       " 'W_dP': None,\n",
       " 'W_d': None,\n",
       " 'V_PN': 0,\n",
       " 'po_N': None,\n",
       " 'no_P': 11449.0/centimeter**3,\n",
       " 'pN': None,\n",
       " 'nP': None,\n",
       " 'x': None,\n",
       " 'p_N_edge': None,\n",
       " 'n_P_edge': 11449.0/centimeter**3,\n",
       " 'V_B': None,\n",
       " 'N_B': None,\n",
       " 'mu_nP': 1254.62510229535*centimeter**2/(second*volt),\n",
       " 'mu_pP': 415.478810290777*centimeter**2/(second*volt),\n",
       " 'mu_nN': None,\n",
       " 'mu_pN': None,\n",
       " 'D_nP': 32.4345681445394*centimeter**2/second,\n",
       " 'D_pN': None,\n",
       " 'D_nN': None,\n",
       " 'D_pP': 10.7409582036372*centimeter**2/second,\n",
       " 'tau_recP': 2.89775279270925e-5*second,\n",
       " 'tau_recN': None,\n",
       " 'tau_genP': 0.00217331459453194*second,\n",
       " 'tau_genN': None,\n",
       " 'L_pN': None,\n",
       " 'L_nP': 0.265500509068944*centimeter,\n",
       " 'J_nxdiffP': 0,\n",
       " 'J_pxdiffN': None,\n",
       " 'C_pn*dep_per_area': None,\n",
       " 'C_pn*dep': None,\n",
       " 'A': None}"
      ]
     },
     "execution_count": 4,
     "metadata": {},
     "output_type": "execute_result"
    }
   ],
   "source": [
    "d = Diode()\n",
    "d.add_known_quantity('N_a', 1e16 / cm**3)\n",
    "d.get_known_quantities()"
   ]
  },
  {
   "cell_type": "code",
   "execution_count": 5,
   "metadata": {},
   "outputs": [
    {
     "data": {
      "text/plain": [
       "{'T': 300*kelvin,\n",
       " 'Si_type': 'n',\n",
       " 'N_a': None,\n",
       " 'N_d': 2.0e+20/centimeter**3,\n",
       " 'n_oI': None,\n",
       " 'p_oI': None,\n",
       " 'n_oN': 2.0e+20/centimeter**3,\n",
       " 'p_oN': 0.57245/centimeter**3,\n",
       " 'n_oP': None,\n",
       " 'p_oP': None}"
      ]
     },
     "execution_count": 5,
     "metadata": {},
     "output_type": "execute_result"
    }
   ],
   "source": [
    "s = Silicon()\n",
    "s.add_known_quantity('N_d', 2e20 / cm**3)\n",
    "s.get_known_quantities()"
   ]
  },
  {
   "cell_type": "code",
   "execution_count": 6,
   "metadata": {},
   "outputs": [
    {
     "name": "stdout",
     "output_type": "stream",
     "text": [
      "running\n",
      "running1\n",
      "running\n",
      "running1\n",
      "running\n",
      "running1\n",
      "running\n",
      "running1\n",
      "running\n",
      "running1\n",
      "running\n",
      "running1\n",
      "running\n",
      "running1\n",
      "running\n",
      "running1\n",
      "running\n",
      "running1\n"
     ]
    },
    {
     "data": {
      "text/plain": [
       "{'T': 300*kelvin,\n",
       " 'N_a': 3.0e+17/centimeter**3,\n",
       " 'N_d': 5.0e+16/centimeter**3,\n",
       " 'V_bi': 0.840353878751271*volt,\n",
       " 'V_bin': 0.120050554107324*volt,\n",
       " 'V_bip': 0.720303324643947*volt,\n",
       " 'W_dN': 6.49605204294625e-6*centimeter,\n",
       " 'W_dP': 1.08267534049104e-6*centimeter,\n",
       " 'W_d': 7.5787273834373e-6*centimeter,\n",
       " 'V_PN': 0.65*volt,\n",
       " 'po_N': 2289.8/centimeter**3,\n",
       " 'no_P': 381.633333333333/centimeter**3,\n",
       " 'pN': None,\n",
       " 'nP': None,\n",
       " 'x': None,\n",
       " 'p_N_edge': 190219435827891.0/centimeter**3,\n",
       " 'n_P_edge': 31703239304648.5/centimeter**3,\n",
       " 'V_B': 17.9441853746546*volt,\n",
       " 'N_B': 5.0e+16/centimeter**3,\n",
       " 'mu_nP': 507.334137770634*centimeter**2/(second*volt),\n",
       " 'mu_pP': 213.562649821236*centimeter**2/(second*volt),\n",
       " 'mu_nN': 985.489677320404*centimeter**2/(second*volt),\n",
       " 'mu_pN': 488.787878787879*centimeter**2/(second*volt),\n",
       " 'D_nP': 13.1156021296464*centimeter**2/second,\n",
       " 'D_pN': 12.6361442424242*centimeter**2/second,\n",
       " 'D_nN': 25.4768791380871*centimeter**2/second,\n",
       " 'D_pP': 5.5210216231786*centimeter**2/second,\n",
       " 'tau_recP': 9.58267452445978e-7*second,\n",
       " 'tau_recN': 2.53485424588086e-5*second,\n",
       " 'tau_genP': 7.18700589334483e-5*second,\n",
       " 'tau_genN': 0.00190114068441065*second,\n",
       " 'L_pN': 0.0178971461089393*centimeter,\n",
       " 'L_nP': 0.00354517342877204*centimeter,\n",
       " 'J_nxdiffP': 0.0187943302079658*ampere/centimeter**2,\n",
       " 'J_pxdiffN': 0.0215207868688632*ampere/centimeter**2,\n",
       " 'C_pn*dep_per_area': 1.36690479362533e-7*farad/centimeter**2,\n",
       " 'C_pn*dep': None,\n",
       " 'A': None}"
      ]
     },
     "execution_count": 6,
     "metadata": {},
     "output_type": "execute_result"
    }
   ],
   "source": [
    "d = Diode()\n",
    "d.add_known_quantity('N_a', 3e17 / cm**3)\n",
    "d.add_known_quantity('N_d', 5e16 / cm**3)\n",
    "d.add_known_quantity('V_PN', 0.65 * volt)\n",
    "d.get_known_quantities()"
   ]
  },
  {
   "cell_type": "code",
   "execution_count": 7,
   "metadata": {},
   "outputs": [
    {
     "name": "stdout",
     "output_type": "stream",
     "text": [
      "running\n",
      "running1\n",
      "running\n",
      "running1\n",
      "running\n",
      "running1\n",
      "running\n",
      "running1\n",
      "running\n",
      "running1\n",
      "running\n",
      "running1\n",
      "running\n",
      "running1\n",
      "running\n",
      "running1\n",
      "running\n",
      "running1\n",
      "running\n",
      "running1\n",
      "running\n",
      "running1\n",
      "running\n",
      "running1\n",
      "running\n",
      "running1\n",
      "running\n",
      "running1\n",
      "running\n",
      "running1\n",
      "running\n",
      "actually running\n",
      "running1\n",
      "actually running1\n",
      "running\n",
      "actually running\n",
      "running1\n",
      "actually running1\n",
      "running\n",
      "actually running\n",
      "running1\n",
      "actually running1\n"
     ]
    },
    {
     "data": {
      "text/plain": [
       "{'T': 300*kelvin,\n",
       " 'N_a': 3.0e+17/centimeter**3,\n",
       " 'N_d': 5.0e+16/centimeter**3,\n",
       " 'V_bi': 0.840353878751271*volt,\n",
       " 'V_bin': 0.120050554107324*volt,\n",
       " 'V_bip': 0.720303324643947*volt,\n",
       " 'W_dN': 6.49605204294625e-6*centimeter,\n",
       " 'W_dP': 1.08267534049104e-6*centimeter,\n",
       " 'W_d': 7.5787273834373e-6*centimeter,\n",
       " 'V_PN': 0.65*volt,\n",
       " 'po_N': 2289.8/centimeter**3,\n",
       " 'no_P': 381.633333333333/centimeter**3,\n",
       " 'pN': 189255227159358.0/centimeter**3,\n",
       " 'nP': 32624851674154.8/centimeter**3,\n",
       " 'x': 0.0001*centimeter,\n",
       " 'p_N_edge': 190219435827891.0/centimeter**3,\n",
       " 'n_P_edge': 31703239304648.5/centimeter**3,\n",
       " 'V_B': 17.9441853746546*volt,\n",
       " 'N_B': 5.0e+16/centimeter**3,\n",
       " 'mu_nP': 507.334137770634*centimeter**2/(second*volt),\n",
       " 'mu_pP': 213.562649821236*centimeter**2/(second*volt),\n",
       " 'mu_nN': 985.489677320404*centimeter**2/(second*volt),\n",
       " 'mu_pN': 488.787878787879*centimeter**2/(second*volt),\n",
       " 'D_nP': 13.1156021296464*centimeter**2/second,\n",
       " 'D_pN': 12.6361442424242*centimeter**2/second,\n",
       " 'D_nN': 25.4768791380871*centimeter**2/second,\n",
       " 'D_pP': 5.5210216231786*centimeter**2/second,\n",
       " 'tau_recP': 9.58267452445978e-7*second,\n",
       " 'tau_recN': 2.53485424588086e-5*second,\n",
       " 'tau_genP': 7.18700589334483e-5*second,\n",
       " 'tau_genN': 0.00190114068441065*second,\n",
       " 'L_pN': 0.0178971461089393*centimeter,\n",
       " 'L_nP': 0.00354517342877204*centimeter,\n",
       " 'J_nxdiffP': 0.0187943302079658*ampere/centimeter**2,\n",
       " 'J_pxdiffN': 0.0215207868688632*ampere/centimeter**2,\n",
       " 'C_pn*dep_per_area': 1.36690479362533e-7*farad/centimeter**2,\n",
       " 'C_pn*dep': 6.83452396812665e-11*farad,\n",
       " 'A': 0.0005*centimeter**2}"
      ]
     },
     "execution_count": 7,
     "metadata": {},
     "output_type": "execute_result"
    }
   ],
   "source": [
    "d = Diode()\n",
    "d.add_known_quantity('V_PN', 0.65 * volt)\n",
    "d.add_known_quantity('N_a', 3e17 / cm**3)\n",
    "d.add_known_quantity('N_d', 5e16 / cm**3)\n",
    "d.add_known_quantity('A', 5e-4 * cm**2)\n",
    "d.add_known_quantity('V_PN', 0.65 * volt)\n",
    "d.add_known_quantity('x', 1e-4 * cm)\n",
    "\n",
    "d.get_known_quantities()\n"
   ]
  }
 ],
 "metadata": {
  "kernelspec": {
   "display_name": "Python 3",
   "language": "python",
   "name": "python3"
  },
  "language_info": {
   "codemirror_mode": {
    "name": "ipython",
    "version": 3
   },
   "file_extension": ".py",
   "mimetype": "text/x-python",
   "name": "python",
   "nbconvert_exporter": "python",
   "pygments_lexer": "ipython3",
   "version": "3.11.1"
  },
  "orig_nbformat": 4,
  "vscode": {
   "interpreter": {
    "hash": "aee8b7b246df8f9039afb4144a1f6fd8d2ca17a180786b69acc140d282b71a49"
   }
  }
 },
 "nbformat": 4,
 "nbformat_minor": 2
}
