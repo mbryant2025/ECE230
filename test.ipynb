{
 "cells": [
  {
   "cell_type": "code",
   "execution_count": 1,
   "metadata": {},
   "outputs": [],
   "source": [
    "from constants import *\n",
    "from crystal_structure_of_solids import *\n",
    "from silicon import Silicon\n",
    "from diode import Diode\n",
    "from mosfet import MOSFET\n",
    "from sympy.physics.units import *\n",
    "import sympy as sp\n",
    "import numpy as np\n",
    "import matplotlib.pyplot as plt\n",
    "import math"
   ]
  },
  {
   "cell_type": "code",
   "execution_count": 2,
   "metadata": {},
   "outputs": [
    {
     "data": {
      "text/plain": [
       "{'T': 300*kelvin,\n",
       " 'Si_type': 'p',\n",
       " 'N_a': 1.0e+16/centimeter**3,\n",
       " 'N_d': None,\n",
       " 'n_oI': None,\n",
       " 'p_oI': None,\n",
       " 'n_oN': None,\n",
       " 'p_oN': None,\n",
       " 'n_oP': 11449.0/centimeter**3,\n",
       " 'p_oP': 1.0e+16/centimeter**3}"
      ]
     },
     "execution_count": 2,
     "metadata": {},
     "output_type": "execute_result"
    }
   ],
   "source": [
    "s = Silicon()\n",
    "\n",
    "s.add_known_quantity('N_a', 1e16 / cm**3)\n",
    "\n",
    "s.get_known_quantities()"
   ]
  },
  {
   "cell_type": "code",
   "execution_count": 3,
   "metadata": {},
   "outputs": [
    {
     "data": {
      "text/plain": [
       "{'T': 300*kelvin,\n",
       " 'Si_type': 'n',\n",
       " 'N_a': None,\n",
       " 'N_d': 1.0e+16/centimeter**3,\n",
       " 'n_oI': None,\n",
       " 'p_oI': None,\n",
       " 'n_oN': 1.0e+16/centimeter**3,\n",
       " 'p_oN': 11449.0/centimeter**3,\n",
       " 'n_oP': None,\n",
       " 'p_oP': None}"
      ]
     },
     "execution_count": 3,
     "metadata": {},
     "output_type": "execute_result"
    }
   ],
   "source": [
    "s = Silicon()\n",
    "\n",
    "s.add_known_quantity('N_d', 1e16 / cm**3)\n",
    "\n",
    "s.get_known_quantities()"
   ]
  },
  {
   "cell_type": "code",
   "execution_count": 4,
   "metadata": {},
   "outputs": [
    {
     "data": {
      "text/plain": [
       "{'T': 300*kelvin,\n",
       " 'N_a': 1.0e+16/centimeter**3,\n",
       " 'N_d': None,\n",
       " 'V_bi': None,\n",
       " 'V_bin': None,\n",
       " 'V_bip': None,\n",
       " 'W_dN': None,\n",
       " 'W_dP': None,\n",
       " 'W_d': None,\n",
       " 'V_PN': 0,\n",
       " 'po_N': None,\n",
       " 'no_P': 11449.0/centimeter**3,\n",
       " 'pN': None,\n",
       " 'nP': None,\n",
       " 'x': None,\n",
       " 'p_N_edge': None,\n",
       " 'n_P_edge': 11449.0/centimeter**3,\n",
       " 'V_B': None,\n",
       " 'N_B': None,\n",
       " 'mu_nP': 1254.62510229535*centimeter**2/(second*volt),\n",
       " 'mu_pP': 415.478810290777*centimeter**2/(second*volt),\n",
       " 'mu_nN': None,\n",
       " 'mu_pN': None,\n",
       " 'D_nP': 32.4345681445394*centimeter**2/second,\n",
       " 'D_pN': None,\n",
       " 'D_nN': None,\n",
       " 'D_pP': 10.7409582036372*centimeter**2/second,\n",
       " 'tau_recP': 2.89775279270925e-5*second,\n",
       " 'tau_recN': None,\n",
       " 'tau_genP': 0.00217331459453194*second,\n",
       " 'tau_genN': None,\n",
       " 'L_pN': None,\n",
       " 'L_nP': 0.265500509068944*centimeter,\n",
       " 'J_nxdiffP': 0,\n",
       " 'J_pxdiffN': None,\n",
       " 'C_pn*dep_per_area': None,\n",
       " 'C_pn*dep': None,\n",
       " 'A': None,\n",
       " 'epsilon_x_max': None,\n",
       " 'tau_recSCR': None,\n",
       " 'J_Dscr': None,\n",
       " 'J_Sdiff': None,\n",
       " 'J_Sscr': None,\n",
       " 'J_D': None,\n",
       " 'I_D': None}"
      ]
     },
     "execution_count": 4,
     "metadata": {},
     "output_type": "execute_result"
    }
   ],
   "source": [
    "d = Diode()\n",
    "d.add_known_quantity('N_a', 1e16 / cm**3)\n",
    "d.get_known_quantities()"
   ]
  },
  {
   "cell_type": "code",
   "execution_count": 5,
   "metadata": {},
   "outputs": [
    {
     "data": {
      "text/plain": [
       "{'T': 300*kelvin,\n",
       " 'Si_type': 'n',\n",
       " 'N_a': None,\n",
       " 'N_d': 2.0e+20/centimeter**3,\n",
       " 'n_oI': None,\n",
       " 'p_oI': None,\n",
       " 'n_oN': 2.0e+20/centimeter**3,\n",
       " 'p_oN': 0.57245/centimeter**3,\n",
       " 'n_oP': None,\n",
       " 'p_oP': None}"
      ]
     },
     "execution_count": 5,
     "metadata": {},
     "output_type": "execute_result"
    }
   ],
   "source": [
    "s = Silicon()\n",
    "s.add_known_quantity('N_d', 2e20 / cm**3)\n",
    "s.get_known_quantities()"
   ]
  },
  {
   "cell_type": "code",
   "execution_count": 6,
   "metadata": {},
   "outputs": [
    {
     "data": {
      "text/plain": [
       "{'T': 300*kelvin,\n",
       " 'N_a': 3.0e+17/centimeter**3,\n",
       " 'N_d': 5.0e+16/centimeter**3,\n",
       " 'V_bi': 0.840353878751271*volt,\n",
       " 'V_bin': 0.120050554107324*volt,\n",
       " 'V_bip': 0.720303324643947*volt,\n",
       " 'W_dN': 6.49605204294625e-6*centimeter,\n",
       " 'W_dP': 1.08267534049104e-6*centimeter,\n",
       " 'W_d': 7.5787273834373e-6*centimeter,\n",
       " 'V_PN': 0.65*volt,\n",
       " 'po_N': 2289.8/centimeter**3,\n",
       " 'no_P': 381.633333333333/centimeter**3,\n",
       " 'pN': None,\n",
       " 'nP': None,\n",
       " 'x': None,\n",
       " 'p_N_edge': 190219435827891.0/centimeter**3,\n",
       " 'n_P_edge': 31703239304648.5/centimeter**3,\n",
       " 'V_B': 17.9441853746546*volt,\n",
       " 'N_B': 5.0e+16/centimeter**3,\n",
       " 'mu_nP': 507.334137770634*centimeter**2/(second*volt),\n",
       " 'mu_pP': 213.562649821236*centimeter**2/(second*volt),\n",
       " 'mu_nN': 985.489677320404*centimeter**2/(second*volt),\n",
       " 'mu_pN': 488.787878787879*centimeter**2/(second*volt),\n",
       " 'D_nP': 13.1156021296464*centimeter**2/second,\n",
       " 'D_pN': 12.6361442424242*centimeter**2/second,\n",
       " 'D_nN': 25.4768791380871*centimeter**2/second,\n",
       " 'D_pP': 5.5210216231786*centimeter**2/second,\n",
       " 'tau_recP': 9.58267452445978e-7*second,\n",
       " 'tau_recN': 2.53485424588086e-5*second,\n",
       " 'tau_genP': 7.18700589334483e-5*second,\n",
       " 'tau_genN': 0.00190114068441065*second,\n",
       " 'L_pN': 0.0178971461089393*centimeter,\n",
       " 'L_nP': 0.00354517342877204*centimeter,\n",
       " 'J_nxdiffP': 0.0187943302079658*ampere/centimeter**2,\n",
       " 'J_pxdiffN': 0.0215207868688632*ampere/centimeter**2,\n",
       " 'C_pn*dep_per_area': 1.36690479362533e-7*farad/centimeter**2,\n",
       " 'C_pn*dep': None,\n",
       " 'A': None,\n",
       " 'epsilon_x_max': -50233.7316334334,\n",
       " 'tau_recSCR': 1.31534049556273e-5*second,\n",
       " 'J_Dscr': 0.000142357554279077*ampere/centimeter**2,\n",
       " 'J_Sdiff': 4.8523108391265e-13*coulomb/(centimeter**2*second),\n",
       " 'J_Sscr': 4.93881057264413e-10*coulomb/(centimeter**2*second),\n",
       " 'J_D': 0.0404574746311081*coulomb/(centimeter**2*second),\n",
       " 'I_D': None}"
      ]
     },
     "execution_count": 6,
     "metadata": {},
     "output_type": "execute_result"
    }
   ],
   "source": [
    "d = Diode()\n",
    "d.add_known_quantity('N_a', 3e17 / cm**3)\n",
    "d.add_known_quantity('N_d', 5e16 / cm**3)\n",
    "d.add_known_quantity('V_PN', 0.65 * volt)\n",
    "d.get_known_quantities()"
   ]
  },
  {
   "cell_type": "code",
   "execution_count": 7,
   "metadata": {},
   "outputs": [
    {
     "data": {
      "text/plain": [
       "{'T': 300*kelvin,\n",
       " 'N_a': 7.5e+16/centimeter**3,\n",
       " 'N_d': 4.2e+16/centimeter**3,\n",
       " 'V_bi': 0.800008013163133*volt,\n",
       " 'V_bin': 0.287182363699586*volt,\n",
       " 'V_bip': 0.512825649463547*volt,\n",
       " 'W_dN': 5.44123286243782e-6*centimeter,\n",
       " 'W_dP': 3.04709040296518e-6*centimeter,\n",
       " 'W_d': 8.488323265403e-6*centimeter,\n",
       " 'V_PN': 0.65*volt,\n",
       " 'po_N': 2725.95238095238/centimeter**3,\n",
       " 'no_P': 1526.53333333333/centimeter**3,\n",
       " 'pN': None,\n",
       " 'nP': None,\n",
       " 'x': None,\n",
       " 'p_N_edge': 226451709318918.0/centimeter**3,\n",
       " 'n_P_edge': 126812957218594.0/centimeter**3,\n",
       " 'V_B': 20.4509874677609*volt,\n",
       " 'N_B': 4.2e+16/centimeter**3,\n",
       " 'mu_nP': 839.130161446852*centimeter**2/(second*volt),\n",
       " 'mu_pP': 313.049856548752*centimeter**2/(second*volt),\n",
       " 'mu_nN': 1025.96101683789*centimeter**2/(second*volt),\n",
       " 'mu_pN': 490.929697999113*centimeter**2/(second*volt),\n",
       " 'D_nP': 21.693192933724*centimeter**2/second,\n",
       " 'D_pN': 12.6915145526731*centimeter**2/second,\n",
       " 'D_nN': 26.523144207293*centimeter**2/second,\n",
       " 'D_pP': 8.09296489149835*centimeter**2/second,\n",
       " 'tau_recP': 3.85676923262345e-6*second,\n",
       " 'tau_recN': 3.02320125571687e-5*second,\n",
       " 'tau_genP': 0.000289257692446759*second,\n",
       " 'tau_genN': 0.00226740094178766*second,\n",
       " 'L_pN': 0.0195880072321281*centimeter,\n",
       " 'L_nP': 0.00914689231729286*centimeter,\n",
       " 'J_nxdiffP': 0.048193227137647*ampere/centimeter**2,\n",
       " 'J_pxdiffN': 0.0235110088877169*ampere/centimeter**2,\n",
       " 'C_pn*dep_per_area': 1.22042934347508e-7*farad/centimeter**2,\n",
       " 'C_pn*dep': 1.22042934347508e-7*farad,\n",
       " 'A': centimeter**2,\n",
       " 'epsilon_x_max': -35344.5570987007,\n",
       " 'tau_recSCR': 1.70443908948961e-5*second,\n",
       " 'J_Dscr': 0.000123044682198073*ampere/centimeter**2,\n",
       " 'J_Sdiff': 8.63029223043308e-13*coulomb/(centimeter**2*second),\n",
       " 'J_Sscr': 4.26878910940098e-10*coulomb/(centimeter**2*second),\n",
       " 'J_D': 0.0718272807075619*coulomb/(centimeter**2*second),\n",
       " 'I_D': 0.0718272807075619*ampere}"
      ]
     },
     "execution_count": 7,
     "metadata": {},
     "output_type": "execute_result"
    }
   ],
   "source": [
    "d = Diode()\n",
    "d.add_known_quantity('V_PN', 0 * volt)\n",
    "d.add_known_quantity('N_a', 7.5e16 * cm**-3)\n",
    "d.add_known_quantity('N_d', 4.2e16 * cm**-3)\n",
    "d.add_known_quantity('V_PN', 0.65 * volt)\n",
    "d.add_known_quantity('A', 1 * cm**2)\n",
    "\n",
    "d.get_known_quantities()\n"
   ]
  }
 ],
 "metadata": {
  "kernelspec": {
   "display_name": "Python 3",
   "language": "python",
   "name": "python3"
  },
  "language_info": {
   "codemirror_mode": {
    "name": "ipython",
    "version": 3
   },
   "file_extension": ".py",
   "mimetype": "text/x-python",
   "name": "python",
   "nbconvert_exporter": "python",
   "pygments_lexer": "ipython3",
   "version": "3.11.1"
  },
  "orig_nbformat": 4,
  "vscode": {
   "interpreter": {
    "hash": "aee8b7b246df8f9039afb4144a1f6fd8d2ca17a180786b69acc140d282b71a49"
   }
  }
 },
 "nbformat": 4,
 "nbformat_minor": 2
}
