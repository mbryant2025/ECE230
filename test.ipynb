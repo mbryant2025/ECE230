{
 "cells": [
  {
   "cell_type": "code",
   "execution_count": 11,
   "metadata": {
    "ExecuteTime": {
     "end_time": "2023-05-05T08:42:30.513960Z",
     "start_time": "2023-05-05T08:42:30.509424Z"
    }
   },
   "outputs": [],
   "source": [
    "from constants import *\n",
    "from crystal_structure_of_solids import *\n",
    "from silicon import Silicon\n",
    "from diode import Diode\n",
    "from moscap import MOSCAP\n",
    "from mosfet import MOSFET\n",
    "from sympy.physics.units import *\n",
    "import sympy as sp\n",
    "import numpy as np\n",
    "import matplotlib.pyplot as plt\n",
    "import math\n",
    "from mosamp import MOSAMP\n",
    "from pprint import pprint"
   ]
  },
  {
   "cell_type": "code",
   "execution_count": 12,
   "metadata": {
    "ExecuteTime": {
     "end_time": "2023-05-05T08:42:30.555964Z",
     "start_time": "2023-05-05T08:42:30.553789Z"
    }
   },
   "outputs": [
    {
     "data": {
      "text/plain": "{'T': 300*kelvin,\n 'Si_type': 'p',\n 'N_a': 7.5e+16/centimeter**3,\n 'N_d': 4.2e+16/centimeter**3,\n 'n_oI': None,\n 'p_oI': None,\n 'n_oN': 4.2e+16/centimeter**3,\n 'p_oN': 2725.95238095238/centimeter**3,\n 'n_oP': 1526.53333333333/centimeter**3,\n 'p_oP': 7.5e+16/centimeter**3,\n 'Bias_Mode': 'Forward',\n 'V_bi': 0.800008013163133*volt,\n 'V_bin': 0.287182363699586*volt,\n 'V_bip': 0.512825649463547*volt,\n 'W_dN': 1.25657163319413e-5*centimeter,\n 'W_dP': 7.03680114588714e-6*centimeter,\n 'W_d': 1.96025174778285e-5*centimeter,\n 'W_N': None,\n 'W_P': None,\n 'V_PN': 0,\n 'rho_p': -0.0120163275*coulomb/centimeter**3,\n 'rho_n': 0.00672914339999999*coulomb/centimeter**3,\n 'epsilon_x_max': -81622.9868503355*coulomb/(centimeter*farad),\n 'epsilon_x_p': None,\n 'epsilon_x_n': None,\n 'po_N': 2725.95238095238/centimeter**3,\n 'no_P': 1526.53333333333/centimeter**3,\n 'pN': None,\n 'nP': None,\n 'x': None,\n 'p_N_edge': 2725.95238095238/centimeter**3,\n 'n_P_edge': 1526.53333333333/centimeter**3,\n 'V_B': 20.4509874677609*volt,\n 'N_B': 4.2e+16/centimeter**3,\n 'mu_nP': 839.130161446852*centimeter**2/(second*volt),\n 'mu_pP': 313.049856548752*centimeter**2/(second*volt),\n 'mu_nN': 1025.96101683789*centimeter**2/(second*volt),\n 'mu_pN': 490.929697999113*centimeter**2/(second*volt),\n 'D_nP': 21.693192933724*centimeter**2/second,\n 'D_pN': 12.6915145526731*centimeter**2/second,\n 'D_nN': 26.523144207293*centimeter**2/second,\n 'D_pP': 8.09296489149835*centimeter**2/second,\n 'tau_recP': 3.85676923262345e-6*second,\n 'tau_recN': 3.02320125571688e-5*second,\n 'tau_genP': 0.000289257692446759*second,\n 'tau_genN': 0.00226740094178766*second,\n 'L_pN': 0.169637118725362*centimeter,\n 'L_nP': 0.0792144111245633*centimeter,\n 'L_p_rec_N': 0.0195880072321281*centimeter,\n 'L_p_gen_N': 0.169637118725362*centimeter,\n 'J_nxdiffP': 0,\n 'J_pxdiffN': 0,\n 'J_Ddiff': 0,\n 'I_Ddiff': None,\n 'C_pn*dep_per_area': 5.28472876084261e-8*farad/centimeter**2,\n 'C_pn*dep': None,\n 'A': None,\n 'tau_recSCR': 1.70443908948961e-5*second,\n 'tau_genSCR': 0.00127832931711721*second,\n 'J_Dscr': 0,\n 'J_Sdiff': 9.96540308485136e-14*coulomb/(centimeter**2*second),\n 'J_Sscr': 9.85813222586118e-10*coulomb/(centimeter**2*second),\n 'J_D': 0,\n 'I_D': None,\n 'J_Dscg': 0,\n 'Q_pndep': 845565071.213551*coulomb/centimeter**2,\n 'Q_pndiffP': 0,\n 'Q_pndiffN': 0,\n 'C_pn*diffN': 2.86586347878045e-15*coulomb**2/(electronvolt*centimeter**2),\n 'C_pn*diffP': 4.67752899504416e-13*farad/centimeter**2,\n 'C_pn*diff': 2.25648438113626e-12*farad/centimeter**2,\n 'C_pn': 528472876.08426*farad/centimeter**2,\n 'L_n_rec_P': 0.00914689231729286*centimeter,\n 'L_n_gen_P': 0.0792144111245633*centimeter}"
     },
     "execution_count": 12,
     "metadata": {},
     "output_type": "execute_result"
    }
   ],
   "source": [
    "d = Diode()\n",
    "\n",
    "d.add_known_quantity('V_PN', 0)\n",
    "d.add_known_quantity('N_a', 7.5e16 / cm**3)\n",
    "d.add_known_quantity('N_d', 4.2e16 / cm**3)\n",
    "\n",
    "d.get_known_quantities()\n"
   ]
  },
  {
   "cell_type": "code",
   "execution_count": 13,
   "outputs": [
    {
     "data": {
      "text/plain": "{'T': 300*kelvin,\n 'Si_type': 'p',\n 'N_a': 3.0e+17/centimeter**3,\n 'N_d': 5.0e+16/centimeter**3,\n 'n_oI': None,\n 'p_oI': None,\n 'n_oN': 5.0e+16/centimeter**3,\n 'p_oN': 2289.8/centimeter**3,\n 'n_oP': 381.633333333333/centimeter**3,\n 'p_oP': 3.0e+17/centimeter**3,\n 'Bias_Mode': 'Forward',\n 'V_bi': 0.840353878751271*volt,\n 'V_bin': 0.120050554107324*volt,\n 'V_bip': 0.720303324643947*volt,\n 'W_dN': 1.36489654596524e-5*centimeter,\n 'W_dP': 2.27482757660873e-6*centimeter,\n 'W_d': 1.59237930362611e-5*centimeter,\n 'W_N': None,\n 'W_P': None,\n 'V_PN': 0,\n 'rho_p': -0.04806531*coulomb/centimeter**3,\n 'rho_n': 0.008010885*coulomb/centimeter**3,\n 'epsilon_x_max': -105546.948121926*coulomb/(centimeter*farad),\n 'epsilon_x_p': None,\n 'epsilon_x_n': None,\n 'po_N': 2289.8/centimeter**3,\n 'no_P': 381.633333333333/centimeter**3,\n 'pN': None,\n 'nP': None,\n 'x': None,\n 'p_N_edge': 2289.8/centimeter**3,\n 'n_P_edge': 381.633333333333/centimeter**3,\n 'V_B': 17.9441853746546*volt,\n 'N_B': 5.0e+16/centimeter**3,\n 'mu_nP': 507.334137770634*centimeter**2/(second*volt),\n 'mu_pP': 213.562649821236*centimeter**2/(second*volt),\n 'mu_nN': 985.489677320404*centimeter**2/(second*volt),\n 'mu_pN': 488.787878787879*centimeter**2/(second*volt),\n 'D_nP': 13.1156021296464*centimeter**2/second,\n 'D_pN': 12.6361442424242*centimeter**2/second,\n 'D_nN': 25.4768791380871*centimeter**2/second,\n 'D_pP': 5.5210216231786*centimeter**2/second,\n 'tau_recP': 9.58267452445978e-7*second,\n 'tau_recN': 2.53485424588086e-5*second,\n 'tau_genP': 7.18700589334483e-5*second,\n 'tau_genN': 0.00190114068441065*second,\n 'L_pN': 0.154993831855832*centimeter,\n 'L_nP': 0.0307021025013817*centimeter,\n 'L_p_rec_N': 0.0178971461089393*centimeter,\n 'L_p_gen_N': 0.154993831855832*centimeter,\n 'J_nxdiffP': 0,\n 'J_pxdiffN': 0,\n 'J_Ddiff': 0,\n 'I_Ddiff': None,\n 'C_pn*dep_per_area': 6.50561004304058e-8*farad/centimeter**2,\n 'C_pn*dep': None,\n 'A': None,\n 'tau_recSCR': 1.31534049556273e-5*second,\n 'tau_genSCR': 0.000986505371672047*second,\n 'J_Dscr': 0,\n 'J_Sdiff': 5.60296593832285e-14*coulomb/(centimeter**2*second),\n 'J_Sscr': 1.03770189142777e-9*coulomb/(centimeter**2*second),\n 'J_D': 0,\n 'I_D': None,\n 'J_Dscg': 0,\n 'Q_pndep': 1093402926.66247*coulomb/centimeter**2,\n 'Q_pndiffP': 0,\n 'Q_pndiffN': 0,\n 'C_pn*diffN': 2.19952200916381e-15*coulomb**2/(electronvolt*centimeter**2),\n 'C_pn*diffP': 4.53231844497355e-14*farad/centimeter**2,\n 'C_pn*diff': 1.41815698880376e-12*farad/centimeter**2,\n 'C_pn': 650561004.304058*farad/centimeter**2,\n 'L_n_rec_P': 0.00354517342877204*centimeter,\n 'L_n_gen_P': 0.0307021025013817*centimeter}"
     },
     "execution_count": 13,
     "metadata": {},
     "output_type": "execute_result"
    }
   ],
   "source": [
    "d = Diode()\n",
    "d.add_known_quantity('N_a', 3.0e17 / cm**3)\n",
    "d.add_known_quantity('N_d', 5.0e16 / cm**3)\n",
    "\n",
    "d.get_known_quantities()"
   ],
   "metadata": {
    "collapsed": false,
    "ExecuteTime": {
     "end_time": "2023-05-05T08:42:30.566852Z",
     "start_time": "2023-05-05T08:42:30.564712Z"
    }
   }
  },
  {
   "cell_type": "code",
   "execution_count": 14,
   "outputs": [
    {
     "data": {
      "text/plain": "{'T': 300*kelvin,\n 'Si_type': 'p',\n 'N_a': 3.0e+17/centimeter**3,\n 'N_d': 5.0e+16/centimeter**3,\n 'n_oI': None,\n 'p_oI': None,\n 'n_oN': 5.0e+16/centimeter**3,\n 'p_oN': 2289.8/centimeter**3,\n 'n_oP': 381.633333333333/centimeter**3,\n 'p_oP': 3.0e+17/centimeter**3,\n 'Bias_Mode': 'Forward',\n 'V_bi': 0.840353878751271*volt,\n 'V_bin': 0.120050554107324*volt,\n 'V_bip': 0.720303324643947*volt,\n 'W_dN': 6.49605204294625e-6*centimeter,\n 'W_dP': 1.08267534049104e-6*centimeter,\n 'W_d': 7.57872738343729e-6*centimeter,\n 'W_N': None,\n 'W_P': None,\n 'V_PN': 0.65*volt,\n 'rho_p': -0.04806531*coulomb/centimeter**3,\n 'rho_n': 0.008010885*coulomb/centimeter**3,\n 'epsilon_x_max': -50233.7316334334*coulomb/(centimeter*farad),\n 'epsilon_x_p': None,\n 'epsilon_x_n': None,\n 'po_N': 2289.8/centimeter**3,\n 'no_P': 381.633333333333/centimeter**3,\n 'pN': None,\n 'nP': None,\n 'x': None,\n 'p_N_edge': 190219435827891.0/centimeter**3,\n 'n_P_edge': 31703239304648.5/centimeter**3,\n 'V_B': 17.9441853746546*volt,\n 'N_B': 5.0e+16/centimeter**3,\n 'mu_nP': 507.334137770634*centimeter**2/(second*volt),\n 'mu_pP': 213.562649821236*centimeter**2/(second*volt),\n 'mu_nN': 985.489677320404*centimeter**2/(second*volt),\n 'mu_pN': 488.787878787879*centimeter**2/(second*volt),\n 'D_nP': 13.1156021296464*centimeter**2/second,\n 'D_pN': 12.6361442424242*centimeter**2/second,\n 'D_nN': 25.4768791380871*centimeter**2/second,\n 'D_pP': 5.5210216231786*centimeter**2/second,\n 'tau_recP': 9.58267452445978e-7*second,\n 'tau_recN': 2.53485424588086e-5*second,\n 'tau_genP': 7.18700589334483e-5*second,\n 'tau_genN': 0.00190114068441065*second,\n 'L_pN': 0.0178971461089393*centimeter,\n 'L_nP': 0.00354517342877204*centimeter,\n 'L_p_rec_N': 0.0178971461089393*centimeter,\n 'L_p_gen_N': 0.154993831855832*centimeter,\n 'J_nxdiffP': 0.0187943302079658*ampere/centimeter**2,\n 'J_pxdiffN': 0.0215207868688632*ampere/centimeter**2,\n 'J_Ddiff': 0.040315117076829*ampere/centimeter**2,\n 'I_Ddiff': None,\n 'C_pn*dep_per_area': 1.36690479362533e-7*farad/centimeter**2,\n 'C_pn*dep': None,\n 'A': None,\n 'tau_recSCR': 1.31534049556273e-5*second,\n 'tau_genSCR': 0.000986505371672047*second,\n 'J_Dscr': 0.000142357554279077*ampere/centimeter**2,\n 'J_Sdiff': 4.8523108391265e-13*coulomb/(centimeter**2*second),\n 'J_Sscr': 4.93881057264413e-10*coulomb/(centimeter**2*second),\n 'J_D': 0.0404574746311081*coulomb/(centimeter**2*second),\n 'I_D': None,\n 'J_Dscg': 1.89810072372102e-6*ampere/centimeter**2,\n 'Q_pndep': 520391258.700575*coulomb/centimeter**2,\n 'Q_pndiffP': -1.80099949288159e-8*coulomb/centimeter**2,\n 'Q_pndiffN': 5.4552057969235e-7*coulomb/centimeter**2,\n 'C_pn*diffN': 2.11016780016601e-5*coulomb**2/(electronvolt*centimeter**2),\n 'C_pn*diffP': 0.000434819583656614*farad/centimeter**2,\n 'C_pn*diff': 0.0136054524614271*farad/centimeter**2,\n 'C_pn': 1366904793.63894*farad/centimeter**2,\n 'L_n_rec_P': 0.00354517342877204*centimeter,\n 'L_n_gen_P': 0.0307021025013817*centimeter}"
     },
     "execution_count": 14,
     "metadata": {},
     "output_type": "execute_result"
    }
   ],
   "source": [
    "d.add_known_quantity('V_PN', 0.65 * volt)\n",
    "\n",
    "d.get_known_quantities()"
   ],
   "metadata": {
    "collapsed": false,
    "ExecuteTime": {
     "end_time": "2023-05-05T08:42:30.594898Z",
     "start_time": "2023-05-05T08:42:30.575057Z"
    }
   }
  },
  {
   "cell_type": "code",
   "execution_count": 15,
   "outputs": [
    {
     "data": {
      "text/plain": "{'T': 300*kelvin,\n 'Si_type': 'p',\n 'N_a': 2.5e+16/centimeter**3,\n 'N_d': None,\n 'n_oI': None,\n 'p_oI': None,\n 'n_oN': None,\n 'p_oN': None,\n 'n_oP': 4579.6/centimeter**3,\n 'p_oP': 2.5e+16/centimeter**3,\n 'X_ox': 2.5e-6*centimeter,\n 'N_aB': 2.5e+16/centimeter**3,\n 'N_dB': None,\n 'Q_f': 0,\n 'Q_it': 0,\n 'phi_PM': -0.890747415564558*volt,\n 'phi_NM': None,\n 'phi_FB': 0.379097415564558*volt,\n 'V_GB': 0,\n 'Vdep_SCB': 0.44887496305621*volt,\n 'C_ox': 1.381253172e-7*farad/centimeter**2,\n 'V_SCB@V_TN': 0.758194831129116*volt,\n 'W_dB@V_TN': 1.9803749880229e-5*centimeter,\n 'W_dB@V_GB': 1.52377103565105e-5*centimeter,\n 'Q_SCB@V_TN': -7.93227814296318e-8*coulomb/centimeter**2,\n 'L_DB': 2.58576527386442e-6*centimeter,\n 'Q_G@V_GB': 0,\n 'epsilon_xOX@V_TN': 229712.504666398*volt/centimeter,\n 'V_ox@V_TN': 0.574281261665995*volt,\n 'epsilon_xB@V_TN': 76570.8348887994*volt/centimeter,\n 'V_TB': 0.441728677230553*volt,\n 'V_FBN': -0.890747415564558*volt,\n 'C_substrate@V_FBN': oo,\n 'C_GB@V_FBN': 1.381253172e-7*farad/centimeter**2,\n 'C_substrate@V_TB': 5.23102889738184e-8*farad/centimeter**2,\n 'C_GB@V_TB': 3.79413041631376e-8*farad/centimeter**2,\n 'C_GBHF_DIVIDED_C_ox': 0.274687544124877,\n 'C_substrate@V_GB': 6.7985271721442e-8*farad/centimeter**2,\n 'X_w': None}"
     },
     "execution_count": 15,
     "metadata": {},
     "output_type": "execute_result"
    }
   ],
   "source": [
    "mc = MOSCAP()\n",
    "\n",
    "angstrom = 1e-8 * cm\n",
    "\n",
    "mc.add_known_quantity('X_ox', 250 * angstrom)\n",
    "mc.add_known_quantity('N_aB', 2.5e16 / cm**3)\n",
    "mc.add_known_quantity('Q_f', 0)\n",
    "mc.add_known_quantity('Q_it', 0)\n",
    "\n",
    "mc.get_known_quantities()"
   ],
   "metadata": {
    "collapsed": false,
    "ExecuteTime": {
     "end_time": "2023-05-05T08:42:30.595592Z",
     "start_time": "2023-05-05T08:42:30.591219Z"
    }
   }
  },
  {
   "cell_type": "code",
   "execution_count": 16,
   "outputs": [
    {
     "data": {
      "text/plain": "{'T': 300*kelvin,\n 'Si_type': 'p',\n 'N_a': 3.0e+16/centimeter**3,\n 'N_d': None,\n 'n_oI': None,\n 'p_oI': None,\n 'n_oN': None,\n 'p_oN': None,\n 'n_oP': 3816.33333333333/centimeter**3,\n 'p_oP': 3.0e+16/centimeter**3,\n 'X_ox': 5.5e-6*centimeter,\n 'N_aB': 3.0e+16/centimeter**3,\n 'N_dB': None,\n 'Q_f': 0,\n 'Q_it': 0,\n 'phi_PM': -0.895460792450795*volt,\n 'phi_NM': None,\n 'phi_FB': 0.383810792450795*volt,\n 'V_GB': 0,\n 'Vdep_SCB': 0.194492156798878*volt,\n 'C_ox': 6.27842350909091e-8*farad/centimeter**2,\n 'V_SCB@V_TN': 0.767621584901591*volt,\n 'W_dB@V_TN': 1.81903053346472e-5*centimeter,\n 'W_dB@V_GB': 9.15624586882385e-6*centimeter,\n 'Q_SCB@V_TN': -8.74322664904418e-8*coulomb/centimeter**2,\n 'L_DB': 2.36046994818178e-6*centimeter,\n 'Q_G@V_GB': 0,\n 'epsilon_xOX@V_TN': 253196.932359166*volt/centimeter,\n 'V_ox@V_TN': 1.39258312797541*volt,\n 'epsilon_xB@V_TN': 84398.9774530553*volt/centimeter,\n 'V_TB': 1.26474392042621*volt,\n 'V_FBN': -0.895460792450795*volt,\n 'C_substrate@V_FBN': oo,\n 'C_GB@V_FBN': 6.27842350909091e-8*farad/centimeter**2,\n 'C_substrate@V_TB': 5.69501094094795e-8*farad/centimeter**2,\n 'C_GB@V_TB': 2.98625183320409e-8*farad/centimeter**2,\n 'C_GBHF_DIVIDED_C_ox': 0.475637208748361,\n 'C_substrate@V_GB': 1.13140242610487e-7*farad/centimeter**2,\n 'X_w': None}"
     },
     "execution_count": 16,
     "metadata": {},
     "output_type": "execute_result"
    }
   ],
   "source": [
    "mc = MOSCAP()\n",
    "\n",
    "mc.add_known_quantity('X_ox', 550 * angstrom)\n",
    "mc.add_known_quantity('N_aB', 3.0e16 / cm**3)\n",
    "mc.add_known_quantity('Q_f', 0)\n",
    "mc.add_known_quantity('Q_it', 0)\n",
    "\n",
    "mc.get_known_quantities()"
   ],
   "metadata": {
    "collapsed": false,
    "ExecuteTime": {
     "end_time": "2023-05-05T08:42:30.595724Z",
     "start_time": "2023-05-05T08:42:30.592400Z"
    }
   }
  },
  {
   "cell_type": "code",
   "execution_count": 17,
   "outputs": [
    {
     "data": {
      "text/plain": "{'T': 300*kelvin,\n 'Si_type': 'p',\n 'N_a': 4.0e+17/centimeter**3,\n 'N_d': None,\n 'n_oI': None,\n 'p_oI': None,\n 'n_oN': None,\n 'p_oN': None,\n 'n_oP': 286.225/centimeter**3,\n 'p_oP': 4.0e+17/centimeter**3,\n 'X_ox': 8.0e-7*centimeter,\n 'N_aB': 4.0e+17/centimeter**3,\n 'N_dB': None,\n 'Q_f': 4.8e-9*coulomb/centimeter**2,\n 'Q_it': 0,\n 'phi_PM': -0.962424379211901*volt,\n 'phi_NM': None,\n 'phi_FB': 0.450774379211901*volt,\n 'V_GB': 0,\n 'Vdep_SCB': 0.423904716605449*volt,\n 'C_ox': 4.3164161625e-7*farad/centimeter**2,\n 'V_SCB@V_TN': 0.901548758423802*volt,\n 'W_dB@V_TN': 5.39873041280453e-6*centimeter,\n 'W_dB@V_GB': 3.7019551764545e-6*centimeter,\n 'Q_SCB@V_TN': -3.45988867863837e-7*coulomb/centimeter**2,\n 'L_DB': 6.46441318466105e-7*centimeter,\n 'Q_G@V_GB': -4.8e-9*coulomb/centimeter**2,\n 'epsilon_xOX@V_TN': 1001956.41140243*volt/centimeter,\n 'V_ox@V_TN': 0.801565129121947*volt,\n 'epsilon_xB@V_TN': 333985.470467478*volt/centimeter,\n 'V_TB': 0.729569171880423*volt,\n 'V_FBN': -0.973544715665326*volt,\n 'C_substrate@V_FBN': oo,\n 'C_GB@V_FBN': 4.3164161625e-7*farad/centimeter**2,\n 'C_substrate@V_TB': 1.91885832369587e-7*farad/centimeter**2,\n 'C_GB@V_TB': 1.328344261393e-7*farad/centimeter**2,\n 'C_GBHF_DIVIDED_C_ox': 0.307742398180543,\n 'C_substrate@V_GB': 2.79835878507897e-7*farad/centimeter**2,\n 'X_w': None,\n 'Bias Range': None,\n 'V_GS': None,\n 'V_DS': None,\n 'V_BS': 0,\n 'L_ch': 0.0001*centimeter,\n 'W_ch': 0.0005*centimeter,\n 'mu_nch': None,\n 'phi_PMOS': None,\n 'mu_nP': 456.475447897142*centimeter**2/(second*volt),\n 'mu_pP': 193.983943952901*centimeter**2/(second*volt),\n 'V_TN@V_BS': 0.729569171880423*volt,\n 'V_DSat': None,\n 'I_D': None,\n 'K_n': None,\n 'K_N': None,\n 'k_prime_n': None,\n 'width_to_length': 5.00000000000000}"
     },
     "execution_count": 17,
     "metadata": {},
     "output_type": "execute_result"
    }
   ],
   "source": [
    "mf = MOSFET()\n",
    "\n",
    "mf.add_known_quantity('L_ch', 1 * cm * 1e-4)\n",
    "mf.add_known_quantity('W_ch', 5 * cm * 1e-4)\n",
    "mf.add_known_quantity('N_aB', 4.0e+17 / cm**3)\n",
    "mf.add_known_quantity('X_ox', 80 * angstroms)\n",
    "mf.add_known_quantity('V_BS', 0 * volt)\n",
    "#since these two are always used as their sum, just set one to the desired value\n",
    "mf.add_known_quantity('Q_f', 4.8e-9 * coulomb / cm**2)\n",
    "mf.add_known_quantity('Q_it', 0 * coulomb / cm**2)\n",
    "\n",
    "mf.get_known_quantities()"
   ],
   "metadata": {
    "collapsed": false,
    "ExecuteTime": {
     "end_time": "2023-05-05T08:42:30.607812Z",
     "start_time": "2023-05-05T08:42:30.605773Z"
    }
   }
  },
  {
   "cell_type": "code",
   "execution_count": 18,
   "outputs": [],
   "source": [
    "# mA = 0.001 * ampere\n",
    "# kohm = 1000 * ohm\n",
    "#\n",
    "# def p327(V_DD, RD):\n",
    "#     print(f'V_DD = {V_DD}V')\n",
    "#     print(f'R_D = {RD}ohm')\n",
    "#     RS = 0\n",
    "#     V_DD = remove_units(V_DD)\n",
    "#     RD = remove_units(RD)\n",
    "#     V_Q_DS = np.linspace(0, 5, 5000)\n",
    "#     I_Q_DS = V_DD / (RD + RS) - 1 / (RD + RS) * V_Q_DS\n",
    "#     mf = MOSFET()\n",
    "#     mf.add_known_quantity('V_GS', V_DD * volt)\n",
    "#     mf.add_known_quantity('V_TB', 0.8 * volt)\n",
    "#\n",
    "#     mf.add_known_quantity('K_n', 0.25 * mA / volt**2)\n",
    "#     I_D = np.array([])\n",
    "#     for V in V_Q_DS:\n",
    "#         mf.add_known_quantity('V_DS', V * volt)\n",
    "#         I_D = np.append(I_D, remove_units(mf.get_known_quantity('I_D')))\n",
    "#     plt.plot(V_Q_DS, I_Q_DS, label='$R_D$ = ' + str(RD) + ' ohm')\n",
    "#     plt.plot(V_Q_DS, I_D, label='$R_D$ = ' + str(RD) + ' ohm')\n",
    "#\n",
    "#     #plot where the lines cross\n",
    "#     plt.plot(V_Q_DS[np.argmin(np.abs(I_Q_DS - I_D))], I_Q_DS[np.argmin(np.abs(I_Q_DS - I_D))], 'ro', label='Q')\n",
    "#     #print the value of V_DS and I_DS at the Q point\n",
    "#     print(f'V_DS = {V_Q_DS[np.argmin(np.abs(I_Q_DS - I_D))]}V')\n",
    "#     print(f'I_DS = {I_Q_DS[np.argmin(np.abs(I_Q_DS - I_D))]}A')\n",
    "#     print('----------')\n",
    "#     pprint(mf.get_known_quantities())\n",
    "#\n",
    "#\n",
    "# V_DD = 4 * volt\n",
    "# RD = 1 * kohm\n",
    "# p327(V_DD, RD)\n",
    "#\n",
    "# V_DD = 5 * volt\n",
    "# RD = 3 * kohm\n",
    "# p327(V_DD, RD)\n",
    "#\n",
    "# plt.text(0, 0.004, 'Linear range for both Q points')\n",
    "#\n",
    "#\n",
    "# plt.xlabel('$V^Q_{DS}$ (V)')\n",
    "# plt.ylabel('$I^Q_{DS}$ (A)')\n",
    "# plt.legend()\n",
    "# plt.title('$I^Q_{DS}$ vs $V^Q_{DS}$')\n",
    "# plt.show()\n"
   ],
   "metadata": {
    "collapsed": false,
    "ExecuteTime": {
     "end_time": "2023-05-05T08:42:30.610288Z",
     "start_time": "2023-05-05T08:42:30.608376Z"
    }
   }
  },
  {
   "cell_type": "code",
   "execution_count": 20,
   "outputs": [
    {
     "name": "stdout",
     "output_type": "stream",
     "text": [
      "Run calc_Q() to find the Q point. This will modify V_DS to find the Q point.\n",
      "Note: V_DS is modified in calc_Q() to find the Q point.\n",
      "Calculating Q point...\n"
     ]
    },
    {
     "data": {
      "text/plain": "{'T': 300*kelvin,\n 'Si_type': 'intrinsic',\n 'N_a': None,\n 'N_d': None,\n 'n_oI': None,\n 'p_oI': None,\n 'n_oN': None,\n 'p_oN': None,\n 'n_oP': None,\n 'p_oP': None,\n 'X_ox': None,\n 'N_aB': None,\n 'N_dB': None,\n 'Q_f': None,\n 'Q_it': None,\n 'phi_PM': None,\n 'phi_NM': None,\n 'phi_FB': None,\n 'V_GB': 0,\n 'Vdep_SCB': None,\n 'C_ox': None,\n 'V_SCB@V_TN': None,\n 'W_dB@V_TN': None,\n 'W_dB@V_GB': None,\n 'Q_SCB@V_TN': None,\n 'L_DB': None,\n 'Q_G@V_GB': None,\n 'epsilon_xOX@V_TN': None,\n 'V_ox@V_TN': None,\n 'epsilon_xB@V_TN': None,\n 'V_TB': 0.8*volt,\n 'V_FBN': None,\n 'C_substrate@V_FBN': None,\n 'C_GB@V_FBN': None,\n 'C_substrate@V_TB': None,\n 'C_GB@V_TB': None,\n 'C_GBHF_DIVIDED_C_ox': None,\n 'C_substrate@V_GB': None,\n 'X_w': None,\n 'Bias Range': 'Saturation',\n 'V_GS': 5.0*volt,\n 'V_DS': 15.0*volt,\n 'V_BS': None,\n 'L_ch': None,\n 'W_ch': None,\n 'mu_nch': None,\n 'phi_PMOS': None,\n 'mu_nP': None,\n 'mu_pP': None,\n 'V_TN@V_BS': None,\n 'V_DSat': 4.2*volt,\n 'I_D': 0.00441*ampere,\n 'K_n': 0.00025*ampere/volt**2,\n 'K_N': 0.0005*ampere/volt**2,\n 'k_prime_n': None,\n 'width_to_length': None,\n 'Q_V_DS': 0.741148229645929*volt,\n 'Q_I_DS': 0.00141961725678469*ampere,\n 'V_DD': 5*volt,\n 'RD': 3000*ohm,\n 'RS': 0,\n 'R1': None,\n 'R2': None,\n 'Rin': None}"
     },
     "execution_count": 20,
     "metadata": {},
     "output_type": "execute_result"
    }
   ],
   "source": [
    "mosamp = MOSAMP()\n",
    "\n",
    "mA = 0.001 * ampere\n",
    "kohm = 1000 * ohm\n",
    "\n",
    "mosamp.add_known_quantity('V_GS', 5 * volt)\n",
    "mosamp.add_known_quantity('V_TB', 0.8 * volt)\n",
    "mosamp.add_known_quantity('K_n', 0.25 * mA / volt**2)\n",
    "mosamp.add_known_quantity('RS', 0)\n",
    "mosamp.add_known_quantity('RD', 3 * kohm)\n",
    "mosamp.add_known_quantity('V_DD', 5 * volt)\n",
    "\n",
    "mosamp.calc_Q()\n",
    "\n",
    "mosamp.get_known_quantities()"
   ],
   "metadata": {
    "collapsed": false,
    "ExecuteTime": {
     "end_time": "2023-05-05T08:43:26.680911Z",
     "start_time": "2023-05-05T08:43:22.607528Z"
    }
   }
  }
 ],
 "metadata": {
  "kernelspec": {
   "display_name": "Python 3",
   "language": "python",
   "name": "python3"
  },
  "language_info": {
   "codemirror_mode": {
    "name": "ipython",
    "version": 3
   },
   "file_extension": ".py",
   "mimetype": "text/x-python",
   "name": "python",
   "nbconvert_exporter": "python",
   "pygments_lexer": "ipython3",
   "version": "3.11.1"
  },
  "orig_nbformat": 4,
  "vscode": {
   "interpreter": {
    "hash": "aee8b7b246df8f9039afb4144a1f6fd8d2ca17a180786b69acc140d282b71a49"
   }
  }
 },
 "nbformat": 4,
 "nbformat_minor": 2
}
